{
 "cells": [
  {
   "cell_type": "markdown",
   "metadata": {
    "colab_type": "text",
    "id": "view-in-github"
   },
   "source": [
    "<a href=\"https://colab.research.google.com/github/MemoGhazi/NLP/blob/main/Summarization_Bart_Colab.ipynb\" target=\"_parent\"><img src=\"https://colab.research.google.com/assets/colab-badge.svg\" alt=\"Open In Colab\"/></a>"
   ]
  },
  {
   "cell_type": "code",
   "execution_count": null,
   "metadata": {
    "id": "G81Kw0fvU6f0"
   },
   "outputs": [],
   "source": [
    "from transformers import BartTokenizer, BartForConditionalGeneration\n",
    "import torch"
   ]
  },
  {
   "cell_type": "code",
   "execution_count": null,
   "metadata": {
    "colab": {
     "base_uri": "https://localhost:8080/",
     "height": 49,
     "referenced_widgets": [
      "219194e0da4445e5b66a7e2dd6a7f48c",
      "30316883c1c44071b75179d16e84b99b",
      "c34cf49a06d749f1ae7a6359cfde203a",
      "bc7a4fa8fc14474482648abb5c8bb902",
      "f6f3ad9b75a54ecd9a9c212acf28a593",
      "558667af4b5e432d9c9927640d1668f7",
      "5f80322ecf7d42fa96626a49a4506aad",
      "240d21895e3b489a9613dd736e69cf6c",
      "8a803071a00d4023a37ebe458a83a3e2",
      "1ef97d15a5ef4bd48355c8e8d788b0e4",
      "b4e4eb75367e42799d708e93e64ad480"
     ]
    },
    "id": "_9c7gkUdVRcY",
    "outputId": "56fd8a1d-baff-4a65-ed87-2b62eca4cab6"
   },
   "outputs": [
    {
     "data": {
      "application/vnd.jupyter.widget-view+json": {
       "model_id": "219194e0da4445e5b66a7e2dd6a7f48c",
       "version_major": 2,
       "version_minor": 0
      },
      "text/plain": [
       "Downloading:   0%|          | 0.00/1.36M [00:00<?, ?B/s]"
      ]
     },
     "metadata": {},
     "output_type": "display_data"
    }
   ],
   "source": [
    "model = BartForConditionalGeneration.from_pretrained('facebook/bart-large-cnn')\n",
    "tokenizer = BartTokenizer.from_pretrained('facebook/bart-large-cnn')"
   ]
  },
  {
   "cell_type": "code",
   "execution_count": null,
   "metadata": {
    "id": "tydmYCi2-jJf"
   },
   "outputs": [],
   "source": [
    "ARTICLE1 =  \"\"\"A poor man had twelve children and was forced to work night and\n",
    "day to give them even bread.  When therefore the thirteenth\n",
    "came into the world, he knew not what to do in his trouble,\n",
    "but ran out into the great highway, and resolved to ask the\n",
    "first person whom he met to be godfather.  The first to meet\n",
    "him was the good God who already knew what filled his heart,\n",
    "and said to him, poor man, I pity you.  I will hold your child\n",
    "at its christening, and will take charge of it and make it\n",
    "happy on earth.  The man said, who are you.  I am God.  Then\n",
    "I do not desire to have you for a godfather, said the man, you give\n",
    "to the rich, and leave the poor to hunger.  Thus spoke the man,\n",
    "for he did not know how wisely God apportions riches and\n",
    "poverty.  He turned therefore away from the Lord, and went\n",
    "farther.  Then the devil came to him and said, what do you seek.\n",
    "If you will take me as a godfather for your child, I will give him\n",
    "gold in plenty and all the joys of the world as well.  The man\n",
    "asked, who are you.  I am the devil.  Then I do not desire to have\n",
    "you for godfather, said the man, you deceive men and lead them\n",
    "astray.  He went onwards, and then came death striding up to\n",
    "him with withered legs, and said, take me as godfather.  The\n",
    "man asked, who are you.  I am death, and I make all equal.  Then\n",
    "said the man,\n",
    "you are the right one, you take the rich as well as the poor,\n",
    "without distinction, you shall be godfather.  Death answered,\n",
    "I will make your child rich and famous, for he who has me for a\n",
    "friend can lack nothing.  The man said, next sunday is the\n",
    "christening, be there at the right time.  Death appeared as he\n",
    "had promised, and stood godfather quite in the usual way.\n",
    "When the boy had grown up, his godfather one day appeared\n",
    "and bade him go with him. He led him forth into a forest, and\n",
    "showed him a herb which grew there, and said, now you shall\n",
    "receive your godfather's present.  I make you a celebrated\n",
    "physician.  When you are called to a patient, I will always appear\n",
    "to you.  If I stand by the head of the sick man, you may say with\n",
    "confidence that you will make him well again, and if you give\n",
    "him of this herb he will recover, but if I stand by the patient's\n",
    "feet, he is mine, and you must say that all remedies are in\n",
    "vain, and that no physician in the world could save him.  But\n",
    "beware of using the herb against my will, or it might fare\n",
    "ill with you.\n",
    "It was not long before the youth was the most famous physician\n",
    "in the whole world.  He had only to look at the patient and he\n",
    "knew his condition at once, whether he would recover, or must\n",
    "needs die.  So they said of him, and from far and wide people\n",
    "came to him, sent for him when they had anyone ill, and gave him\n",
    "so much money that he soon became a rich man.  Now it so befell\n",
    "that the king became ill, and the physician was summoned, and\n",
    "was to say if recovery were possible.  But when he came to the bed,\n",
    "death was standing by the feet of the sick man, and the herb\n",
    "did not grow which could save him.  If I could but cheat death for\n",
    "once, thought the physician, he is sure to take it ill if I do\n",
    "but, as I am his godson, he will shut one eye, I will risk it.  He\n",
    "therefore took up the sick man, and laid him the other way, so\n",
    "that now death was standing by his head.  Then he gave the king\n",
    "some of the herbs, and he recovered and grew healthy again.\n",
    "But death came to the physician, looking very black and\n",
    "angry, threatened him with his finger, and said, you have betrayed\n",
    "me, this time I will pardon\n",
    "it, as you are my godson, but if you venture it again, it\n",
    "will cost you your neck, for I will take you yourself away\n",
    "with me.\n",
    "Soon afterwards the king's daughter fell into a severe illness.\n",
    "She was his only child, and he wept day and night, so that he\n",
    "began to lose the sight of his eyes, and he caused it to be\n",
    "made known that whosoever rescued her from death should be her\n",
    "husband and inherit the crown.  When the physician came to the\n",
    "sick girl's bed, he saw death by her feet.  He ought to have\n",
    "remembered the warning given by his godfather, but he was so\n",
    "infatuated by the great beauty of the king's daughter, and the\n",
    "happiness of becoming her husband, that he flung all thought to\n",
    "the winds.  He did not see that death was casting angry glances\n",
    "on him, that he was raising his hand in the air, and threatening\n",
    "him with his withered fist.  He raised up the sick girl,\n",
    "and placed her head where her feet had lain.  Then he gave\n",
    "her some of the herb, and instantly her cheeks flushed red,\n",
    "and life stirred afresh in her.\n",
    "When death saw that for a second time his own property had been\n",
    "misused, he walked up to the physician with long strides, and\n",
    "said, all is over with you, and now the lot falls on you, and\n",
    "seized him so firmly with his ice-cold hand, that he could not\n",
    "resist, and led him into a cave below the earth.  There he\n",
    "saw how thousands and thousands of candles were burning in\n",
    "countless rows, some large, some medium-sized, others small.\n",
    "Every instant some were extinguished, and others again burnt up,\n",
    "so that the flames seemed to leap hither and thither in\n",
    "perpetual change.  See, said death, these are the lights of\n",
    "men's lives.  The large ones belong to children, the medium-sized\n",
    "ones to married people in their prime, the little ones belong\n",
    "to old people, but children and young folks likewise have\n",
    "often only a tiny candle.  Show me the light of my life, said\n",
    "the physician, and he thought that it would be still very\n",
    "tall.  Death pointed to a little end which was just threatening\n",
    "to go out, and said, behold, it is there.  Ah, dear godfather,\n",
    "said the horrified physician, light a new one for me, do it for\n",
    "love of me, that I may enjoy my life, be king, and the husband of\n",
    "the king's beautiful daughter.  I cannot, answered death,\n",
    "one must go out\n",
    "before a new one is lighted.  Then place the old one on a new\n",
    "one, that will go on burning at once when the old one has come\n",
    "to an end, pleaded the physician.  Death behaved as if he were\n",
    "going to fulfill his wish, and took hold of a tall new candle,\n",
    "but as he desired to revenge himself, he purposely made a mistake\n",
    "in fixing it, and the little piece fell down and was extinguished.\n",
    "Immediately the physician fell on the ground, and now he himself\n",
    "was in the hands of death.\"\"\""
   ]
  },
  {
   "cell_type": "code",
   "execution_count": 47,
   "metadata": {
    "id": "k0Z5a-UPVlOx"
   },
   "outputs": [],
   "source": [
    "# tokenize without truncation\n",
    "inputs_no_trunc = tokenizer(ARTICLE1, max_length=None, return_tensors='pt', truncation=False)\n",
    "\n",
    "# get batches of tokens corresponding to the exact model_max_length\n",
    "chunk_start = 0\n",
    "chunk_end = tokenizer.model_max_length  # == 1024 for Bart\n",
    "inputs_batch_lst = []\n",
    "while chunk_start <= len(inputs_no_trunc['input_ids'][0]):\n",
    "    inputs_batch = inputs_no_trunc['input_ids'][0][chunk_start:chunk_end]  # get batch of n tokens\n",
    "    inputs_batch = torch.unsqueeze(inputs_batch, 0)\n",
    "    inputs_batch_lst.append(inputs_batch)\n",
    "    chunk_start += tokenizer.model_max_length  # == 1024 for Bart\n",
    "    chunk_end += tokenizer.model_max_length  # == 1024 for Bart\n",
    "\n",
    "# generate a summary on each batch\n",
    "summary_ids_lst = [model.generate(inputs, num_beams=4, max_length=100, early_stopping=True) for inputs in inputs_batch_lst]\n",
    "\n"
   ]
  },
  {
   "cell_type": "code",
   "execution_count": 45,
   "metadata": {
    "colab": {
     "base_uri": "https://localhost:8080/"
    },
    "id": "QzOClP62WPtA",
    "outputId": "21dfb8d5-7d22-450a-b434-088c28b3145c"
   },
   "outputs": [
    {
     "name": "stdout",
     "output_type": "stream",
     "text": [
      "A poor man had twelve children and was forced to work night and day to give them even bread. He resolved to ask the first person whom he met to be godfather. The good God said to him, poor man, I pity you. I will hold your child at its christening. The man said, who are you.  I am God. Then the devil came to him and said, what do you seek. If you will take me as a godfather for your\n",
      "The physician was so infatuated by the great beauty of the king's daughter that he flung all thought to the winds. He raised up the sick girl, placed her head where her feet had lain. Then he gave her some of the herb, and instantly her cheeks flushed red, and life stirred afresh in her.\n"
     ]
    }
   ],
   "source": [
    "# decode the output and join into one string with one paragraph per summary batch\n",
    "summary_batch_lst = []\n",
    "for summary_id in summary_ids_lst:\n",
    "    summary_batch = [tokenizer.decode(g, skip_special_tokens=True, clean_up_tokenization_spaces=False) for g in summary_id]\n",
    "    summary_batch_lst.append(summary_batch[0])\n",
    "summary_all = '\\n'.join(summary_batch_lst)\n",
    "\n",
    "print(summary_all)"
   ]
  }
 ],
 "metadata": {
  "accelerator": "GPU",
  "colab": {
   "authorship_tag": "ABX9TyMTZLBaMaUivnpmdkwcQY+9",
   "include_colab_link": true,
   "provenance": []
  },
  "gpuClass": "standard",
  "kernelspec": {
   "display_name": "Python 3 (ipykernel)",
   "language": "python",
   "name": "python3"
  },
  "language_info": {
   "codemirror_mode": {
    "name": "ipython",
    "version": 3
   },
   "file_extension": ".py",
   "mimetype": "text/x-python",
   "name": "python",
   "nbconvert_exporter": "python",
   "pygments_lexer": "ipython3",
   "version": "3.10.6"
  },
  "widgets": {
   "application/vnd.jupyter.widget-state+json": {
    "1ef97d15a5ef4bd48355c8e8d788b0e4": {
     "model_module": "@jupyter-widgets/base",
     "model_module_version": "1.2.0",
     "model_name": "LayoutModel",
     "state": {
      "_model_module": "@jupyter-widgets/base",
      "_model_module_version": "1.2.0",
      "_model_name": "LayoutModel",
      "_view_count": null,
      "_view_module": "@jupyter-widgets/base",
      "_view_module_version": "1.2.0",
      "_view_name": "LayoutView",
      "align_content": null,
      "align_items": null,
      "align_self": null,
      "border": null,
      "bottom": null,
      "display": null,
      "flex": null,
      "flex_flow": null,
      "grid_area": null,
      "grid_auto_columns": null,
      "grid_auto_flow": null,
      "grid_auto_rows": null,
      "grid_column": null,
      "grid_gap": null,
      "grid_row": null,
      "grid_template_areas": null,
      "grid_template_columns": null,
      "grid_template_rows": null,
      "height": null,
      "justify_content": null,
      "justify_items": null,
      "left": null,
      "margin": null,
      "max_height": null,
      "max_width": null,
      "min_height": null,
      "min_width": null,
      "object_fit": null,
      "object_position": null,
      "order": null,
      "overflow": null,
      "overflow_x": null,
      "overflow_y": null,
      "padding": null,
      "right": null,
      "top": null,
      "visibility": null,
      "width": null
     }
    },
    "219194e0da4445e5b66a7e2dd6a7f48c": {
     "model_module": "@jupyter-widgets/controls",
     "model_module_version": "1.5.0",
     "model_name": "HBoxModel",
     "state": {
      "_dom_classes": [],
      "_model_module": "@jupyter-widgets/controls",
      "_model_module_version": "1.5.0",
      "_model_name": "HBoxModel",
      "_view_count": null,
      "_view_module": "@jupyter-widgets/controls",
      "_view_module_version": "1.5.0",
      "_view_name": "HBoxView",
      "box_style": "",
      "children": [
       "IPY_MODEL_30316883c1c44071b75179d16e84b99b",
       "IPY_MODEL_c34cf49a06d749f1ae7a6359cfde203a",
       "IPY_MODEL_bc7a4fa8fc14474482648abb5c8bb902"
      ],
      "layout": "IPY_MODEL_f6f3ad9b75a54ecd9a9c212acf28a593"
     }
    },
    "240d21895e3b489a9613dd736e69cf6c": {
     "model_module": "@jupyter-widgets/base",
     "model_module_version": "1.2.0",
     "model_name": "LayoutModel",
     "state": {
      "_model_module": "@jupyter-widgets/base",
      "_model_module_version": "1.2.0",
      "_model_name": "LayoutModel",
      "_view_count": null,
      "_view_module": "@jupyter-widgets/base",
      "_view_module_version": "1.2.0",
      "_view_name": "LayoutView",
      "align_content": null,
      "align_items": null,
      "align_self": null,
      "border": null,
      "bottom": null,
      "display": null,
      "flex": null,
      "flex_flow": null,
      "grid_area": null,
      "grid_auto_columns": null,
      "grid_auto_flow": null,
      "grid_auto_rows": null,
      "grid_column": null,
      "grid_gap": null,
      "grid_row": null,
      "grid_template_areas": null,
      "grid_template_columns": null,
      "grid_template_rows": null,
      "height": null,
      "justify_content": null,
      "justify_items": null,
      "left": null,
      "margin": null,
      "max_height": null,
      "max_width": null,
      "min_height": null,
      "min_width": null,
      "object_fit": null,
      "object_position": null,
      "order": null,
      "overflow": null,
      "overflow_x": null,
      "overflow_y": null,
      "padding": null,
      "right": null,
      "top": null,
      "visibility": null,
      "width": null
     }
    },
    "30316883c1c44071b75179d16e84b99b": {
     "model_module": "@jupyter-widgets/controls",
     "model_module_version": "1.5.0",
     "model_name": "HTMLModel",
     "state": {
      "_dom_classes": [],
      "_model_module": "@jupyter-widgets/controls",
      "_model_module_version": "1.5.0",
      "_model_name": "HTMLModel",
      "_view_count": null,
      "_view_module": "@jupyter-widgets/controls",
      "_view_module_version": "1.5.0",
      "_view_name": "HTMLView",
      "description": "",
      "description_tooltip": null,
      "layout": "IPY_MODEL_558667af4b5e432d9c9927640d1668f7",
      "placeholder": "​",
      "style": "IPY_MODEL_5f80322ecf7d42fa96626a49a4506aad",
      "value": "Downloading: 100%"
     }
    },
    "558667af4b5e432d9c9927640d1668f7": {
     "model_module": "@jupyter-widgets/base",
     "model_module_version": "1.2.0",
     "model_name": "LayoutModel",
     "state": {
      "_model_module": "@jupyter-widgets/base",
      "_model_module_version": "1.2.0",
      "_model_name": "LayoutModel",
      "_view_count": null,
      "_view_module": "@jupyter-widgets/base",
      "_view_module_version": "1.2.0",
      "_view_name": "LayoutView",
      "align_content": null,
      "align_items": null,
      "align_self": null,
      "border": null,
      "bottom": null,
      "display": null,
      "flex": null,
      "flex_flow": null,
      "grid_area": null,
      "grid_auto_columns": null,
      "grid_auto_flow": null,
      "grid_auto_rows": null,
      "grid_column": null,
      "grid_gap": null,
      "grid_row": null,
      "grid_template_areas": null,
      "grid_template_columns": null,
      "grid_template_rows": null,
      "height": null,
      "justify_content": null,
      "justify_items": null,
      "left": null,
      "margin": null,
      "max_height": null,
      "max_width": null,
      "min_height": null,
      "min_width": null,
      "object_fit": null,
      "object_position": null,
      "order": null,
      "overflow": null,
      "overflow_x": null,
      "overflow_y": null,
      "padding": null,
      "right": null,
      "top": null,
      "visibility": null,
      "width": null
     }
    },
    "5f80322ecf7d42fa96626a49a4506aad": {
     "model_module": "@jupyter-widgets/controls",
     "model_module_version": "1.5.0",
     "model_name": "DescriptionStyleModel",
     "state": {
      "_model_module": "@jupyter-widgets/controls",
      "_model_module_version": "1.5.0",
      "_model_name": "DescriptionStyleModel",
      "_view_count": null,
      "_view_module": "@jupyter-widgets/base",
      "_view_module_version": "1.2.0",
      "_view_name": "StyleView",
      "description_width": ""
     }
    },
    "8a803071a00d4023a37ebe458a83a3e2": {
     "model_module": "@jupyter-widgets/controls",
     "model_module_version": "1.5.0",
     "model_name": "ProgressStyleModel",
     "state": {
      "_model_module": "@jupyter-widgets/controls",
      "_model_module_version": "1.5.0",
      "_model_name": "ProgressStyleModel",
      "_view_count": null,
      "_view_module": "@jupyter-widgets/base",
      "_view_module_version": "1.2.0",
      "_view_name": "StyleView",
      "bar_color": null,
      "description_width": ""
     }
    },
    "b4e4eb75367e42799d708e93e64ad480": {
     "model_module": "@jupyter-widgets/controls",
     "model_module_version": "1.5.0",
     "model_name": "DescriptionStyleModel",
     "state": {
      "_model_module": "@jupyter-widgets/controls",
      "_model_module_version": "1.5.0",
      "_model_name": "DescriptionStyleModel",
      "_view_count": null,
      "_view_module": "@jupyter-widgets/base",
      "_view_module_version": "1.2.0",
      "_view_name": "StyleView",
      "description_width": ""
     }
    },
    "bc7a4fa8fc14474482648abb5c8bb902": {
     "model_module": "@jupyter-widgets/controls",
     "model_module_version": "1.5.0",
     "model_name": "HTMLModel",
     "state": {
      "_dom_classes": [],
      "_model_module": "@jupyter-widgets/controls",
      "_model_module_version": "1.5.0",
      "_model_name": "HTMLModel",
      "_view_count": null,
      "_view_module": "@jupyter-widgets/controls",
      "_view_module_version": "1.5.0",
      "_view_name": "HTMLView",
      "description": "",
      "description_tooltip": null,
      "layout": "IPY_MODEL_1ef97d15a5ef4bd48355c8e8d788b0e4",
      "placeholder": "​",
      "style": "IPY_MODEL_b4e4eb75367e42799d708e93e64ad480",
      "value": " 1.36M/1.36M [00:00&lt;00:00, 1.74MB/s]"
     }
    },
    "c34cf49a06d749f1ae7a6359cfde203a": {
     "model_module": "@jupyter-widgets/controls",
     "model_module_version": "1.5.0",
     "model_name": "FloatProgressModel",
     "state": {
      "_dom_classes": [],
      "_model_module": "@jupyter-widgets/controls",
      "_model_module_version": "1.5.0",
      "_model_name": "FloatProgressModel",
      "_view_count": null,
      "_view_module": "@jupyter-widgets/controls",
      "_view_module_version": "1.5.0",
      "_view_name": "ProgressView",
      "bar_style": "success",
      "description": "",
      "description_tooltip": null,
      "layout": "IPY_MODEL_240d21895e3b489a9613dd736e69cf6c",
      "max": 1355863,
      "min": 0,
      "orientation": "horizontal",
      "style": "IPY_MODEL_8a803071a00d4023a37ebe458a83a3e2",
      "value": 1355863
     }
    },
    "f6f3ad9b75a54ecd9a9c212acf28a593": {
     "model_module": "@jupyter-widgets/base",
     "model_module_version": "1.2.0",
     "model_name": "LayoutModel",
     "state": {
      "_model_module": "@jupyter-widgets/base",
      "_model_module_version": "1.2.0",
      "_model_name": "LayoutModel",
      "_view_count": null,
      "_view_module": "@jupyter-widgets/base",
      "_view_module_version": "1.2.0",
      "_view_name": "LayoutView",
      "align_content": null,
      "align_items": null,
      "align_self": null,
      "border": null,
      "bottom": null,
      "display": null,
      "flex": null,
      "flex_flow": null,
      "grid_area": null,
      "grid_auto_columns": null,
      "grid_auto_flow": null,
      "grid_auto_rows": null,
      "grid_column": null,
      "grid_gap": null,
      "grid_row": null,
      "grid_template_areas": null,
      "grid_template_columns": null,
      "grid_template_rows": null,
      "height": null,
      "justify_content": null,
      "justify_items": null,
      "left": null,
      "margin": null,
      "max_height": null,
      "max_width": null,
      "min_height": null,
      "min_width": null,
      "object_fit": null,
      "object_position": null,
      "order": null,
      "overflow": null,
      "overflow_x": null,
      "overflow_y": null,
      "padding": null,
      "right": null,
      "top": null,
      "visibility": null,
      "width": null
     }
    }
   }
  }
 },
 "nbformat": 4,
 "nbformat_minor": 4
}
